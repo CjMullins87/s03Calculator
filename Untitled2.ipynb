{
 "cells": [
  {
   "cell_type": "code",
   "execution_count": 6,
   "metadata": {},
   "outputs": [],
   "source": [
    "def add(num1, num2):\n",
    "    a = num1 + num2\n",
    "    return a\n",
    "def subtract(num1, num2):\n",
    "    b = num1 - num2\n",
    "    return b\n",
    "def multiply(num1, num2):\n",
    "    c = num1 * num2\n",
    "    return c\n",
    "def divide(num1, num2):\n",
    "    mod=input(\"Press d for division and m for modulo operator: \")\n",
    "    while mod != 'd' or mod != 'm':\n",
    "        if mod == 'd':\n",
    "            d = num1 / num2\n",
    "            break\n",
    "        elif mod == 'm':\n",
    "            d = num1 % num2\n",
    "            break\n",
    "        else:\n",
    "            mod=input(\"Press d for division and m for modulo operator: \")\n",
    "    return d"
   ]
  },
  {
   "cell_type": "code",
   "execution_count": 7,
   "metadata": {},
   "outputs": [
    {
     "name": "stdout",
     "output_type": "stream",
     "text": [
      "User Menu\n",
      "Please select an integer operation:  (1.) Add  (2.) Subtract (3.) Multiply (4.) Divide\n",
      "What would you like to do? 4\n",
      "Enter first number | X in (x-y) or (x/y) 3\n",
      "Enter second number | Y in (x-y) or (x/y) 4\n",
      "Press d for division and m for modulo operator: d\n",
      "0.75\n",
      "Run again? (Y/N)N\n"
     ]
    }
   ],
   "source": [
    "print(\"User Menu\")\n",
    "cont=[]\n",
    "\n",
    "while cont != 'N':\n",
    "    \n",
    "##Options Statement\n",
    "    print(\"Please select an integer operation:  (1.) Add  (2.) Subtract (3.) Multiply (4.) Divide\")\n",
    "\n",
    "\n",
    "##Operation prompt, correct user\n",
    "    select=input(\"What would you like to do? \")\n",
    "    while select.isdigit() == False:   \n",
    "        select=input(\"Sorry, you must provide a valid integer: \")\n",
    "    while int(select) > 4 or int(select) < 0:\n",
    "        select=input(\"Sorry, you must provide a valid integer: \")\n",
    "    \n",
    "##Input num1, correct user if invalid input\n",
    "    num1=input(\"Enter first number | X in (x-y) or (x/y) \")\n",
    "    while num1.isdigit() == False:\n",
    "        num1=input(\"Sorry, I can only compute integers. Please try agian: \")\n",
    "    num1=int(num1)\n",
    "\n",
    "##Input n2, correct user if invalid input\n",
    "    num2=input(\"Enter second number | Y in (x-y) or (x/y) \")\n",
    "    while num2.isdigit() == False:\n",
    "        num2=input(\"Sorry, I can only compute integers. Please try again: \")\n",
    "    num2=int(num2)\n",
    "\n",
    "##Load library of fxns and execute\n",
    "    options={'1':add(num1, num2),\n",
    "         '2':subtract(num1, num2),\n",
    "         '3':multiply(num1, num2),\n",
    "         '4':divide(num1, num2)}\n",
    "    print(options[select])\n",
    "\n",
    "    cont = input(\"Run again? (Y/N)\")"
   ]
  }
 ],
 "metadata": {
  "kernelspec": {
   "display_name": "Python 3",
   "language": "python",
   "name": "python3"
  },
  "language_info": {
   "codemirror_mode": {
    "name": "ipython",
    "version": 3
   },
   "file_extension": ".py",
   "mimetype": "text/x-python",
   "name": "python",
   "nbconvert_exporter": "python",
   "pygments_lexer": "ipython3",
   "version": "3.6.6"
  }
 },
 "nbformat": 4,
 "nbformat_minor": 2
}
